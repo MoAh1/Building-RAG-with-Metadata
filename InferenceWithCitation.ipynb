{
  "cells": [
    {
      "cell_type": "code",
      "execution_count": 18,
      "id": "21528b44",
      "metadata": {},
      "outputs": [],
      "source": [
        "from config_llm import llm_gpt4_mini, embeddings, llm_gpt4o, client_gpt4o, client_gpt4_mini\n",
        "from llama_index.core import VectorStoreIndex, SimpleDirectoryReader, Document\n",
        "from llama_index.vector_stores.chroma import ChromaVectorStore\n",
        "from llama_index.core import StorageContext\n",
        "from IPython.display import Markdown, display\n",
        "import chromadb\n",
        "from llama_index.core import Settings\n",
        "from llama_index.core.postprocessor import LongContextReorder\n",
        "reorder = LongContextReorder()"
      ]
    },
    {
      "cell_type": "code",
      "execution_count": 19,
      "id": "363eefff",
      "metadata": {},
      "outputs": [],
      "source": [
        "Settings.llm = llm_gpt4o\n",
        "Settings.embed_model = embeddings\n",
        "db2 = chromadb.PersistentClient(path=\"./RagwithMedata\")\n",
        "chroma_collection = db2.get_or_create_collection(\"RagwithMedata\")\n",
        "vector_store = ChromaVectorStore(chroma_collection=chroma_collection)\n",
        "reorder = LongContextReorder()\n",
        "index = VectorStoreIndex.from_vector_store(vector_store, embed_model=embeddings)\n",
        "my_retriever = index.as_retriever(node_postprocessors=[reorder], similarity_top_k=5)"
      ]
    },
    {
      "cell_type": "code",
      "execution_count": 13,
      "id": "e758d949",
      "metadata": {},
      "outputs": [],
      "source": [
        "def RagQuery(query):\n",
        "    retrieved_sources = my_retriever.retrieve(query)\n",
        "    response = client_gpt4o.chat.completions.create(\n",
        "        model=\"gpt-4-latest\",\n",
        "        messages=[\n",
        "            {\n",
        "                \"role\": \"user\",\n",
        "                \"content\": f\"\"\"\n",
        "            1. Read the provided sources carefully, including all details.\n",
        "            2. Answer the user’s query using only the provided sources. Me Do not rely on prior knowledge.\n",
        "            3. If the text does not contain a relevant answer, respond with: \"Sorry, the provided text is not relevant to the query.\"\n",
        "            4. Cite the source with clickable link using the provided URL.\n",
        "            5. Make sure to add page number so that the user can verify it.\n",
        "            User Query: {query}\n",
        "            Sources:\n",
        "            {retrieved_sources}\n",
        "                \"\"\"\n",
        "            }\n",
        "        ],\n",
        "        temperature=0,\n",
        "        max_tokens=4000\n",
        "    )\n",
        "    return response.choices[0].message.content\n"
      ]
    },
    {
      "cell_type": "code",
      "execution_count": 16,
      "id": "8e1d38dc",
      "metadata": {},
      "outputs": [
        {
          "data": {
            "text/markdown": [
              "<b>Multidimensional poverty refers to the condition where individuals or households experience multiple deprivations simultaneously, across various indicators of health, education, and standard of living. The global Multidimensional Poverty Index (MPI) measures acute multidimensional poverty across more than 100 developing countries. It was first launched in 2010 by the Oxford Poverty and Human Development Initiative (OPHI) and the Human Development Report Office of the United Nations Development Programme. The MPI advances Sustainable Development Goal 1, which aims to end poverty in all its forms everywhere, by measuring interconnected deprivations across indicators related to several SDGs. The computation of the global MPI begins by constructing a deprivation profile for each household and person, covering 10 indicators of health, education, and standard of living. For example, a household is considered deprived if any child is stunted or underweight, if any child died in the past five years, or if any school-aged child is not attending school [source](https://hdr.undp.org/content/2024-global-multidimensional-poverty-index-mpi) (Page 6).</b>"
            ],
            "text/plain": [
              "<IPython.core.display.Markdown object>"
            ]
          },
          "metadata": {},
          "output_type": "display_data"
        }
      ],
      "source": [
        "from IPython.display import Markdown, display\n",
        "FirstQuery = RagQuery('What is multi-dimensional poverty?')\n",
        "display(Markdown(f\"<b>{FirstQuery}</b>\"))"
      ]
    },
    {
      "cell_type": "code",
      "execution_count": 15,
      "id": "4787d671",
      "metadata": {},
      "outputs": [
        {
          "data": {
            "text/markdown": [
              "<b>The country that had the most significant progress in elevating poverty, according to the 2024 Global Multidimensional Poverty Index (MPI), is Benin. Between 2017/2018 and 2021/2022, Benin experienced the fastest reduction in MPI values and in the incidence of poverty, decreasing from 66.0 percent to 55.9 percent. This change is significant at the 95 percent confidence level. [Source](https://hdr.undp.org/content/2024-global-multidimensional-poverty-index-mpi) (Page 15).</b>"
            ],
            "text/plain": [
              "<IPython.core.display.Markdown object>"
            ]
          },
          "metadata": {},
          "output_type": "display_data"
        }
      ],
      "source": [
        "SecondQuery = RagQuery('Which country had the most siginficant progress in elevating poverty?')\n",
        "display(Markdown(f\"<b>{SecondQuery}</b>\"))"
      ]
    }
  ],
  "metadata": {
    "colab": {
      "provenance": []
    },
    "kernelspec": {
      "display_name": "Python 3",
      "language": "python",
      "name": "python3"
    },
    "language_info": {
      "codemirror_mode": {
        "name": "ipython",
        "version": 3
      },
      "file_extension": ".py",
      "mimetype": "text/x-python",
      "name": "python",
      "nbconvert_exporter": "python",
      "pygments_lexer": "ipython3",
      "version": "3.12.6"
    }
  },
  "nbformat": 4,
  "nbformat_minor": 5
}
